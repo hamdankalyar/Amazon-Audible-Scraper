{
  "nbformat": 4,
  "nbformat_minor": 0,
  "metadata": {
    "colab": {
      "provenance": [],
      "authorship_tag": "ABX9TyNtEwzF8rMh8s7kwg0lzzWH",
      "include_colab_link": true
    },
    "kernelspec": {
      "name": "python3",
      "display_name": "Python 3"
    },
    "language_info": {
      "name": "python"
    }
  },
  "cells": [
    {
      "cell_type": "markdown",
      "metadata": {
        "id": "view-in-github",
        "colab_type": "text"
      },
      "source": [
        "<a href=\"https://colab.research.google.com/github/hamdankalyar/Amazon-Audible-Scraper/blob/main/AmazonAudioScrap.ipynb\" target=\"_parent\"><img src=\"https://colab.research.google.com/assets/colab-badge.svg\" alt=\"Open In Colab\"/></a>"
      ]
    },
    {
      "cell_type": "code",
      "execution_count": null,
      "metadata": {
        "id": "brckK4DKDYPv"
      },
      "outputs": [],
      "source": [
        "!pip install selenium\n",
        "!apt-get update # to update ubuntu to correctly run apt install\n",
        "!apt install chromium-chromedriver\n",
        "!cp /usr/lib/chromium-browser/chromedriver /usr/bin\n",
        "!pip install webdriver_manager\n",
        "import sys\n",
        "sys.path.insert(0,'/usr/lib/chromium-browser/chromedriver')\n"
      ]
    },
    {
      "cell_type": "code",
      "source": [
        "!pip install chromedriver_autoinstaller"
      ],
      "metadata": {
        "id": "TPMotvI1DgVv"
      },
      "execution_count": null,
      "outputs": []
    },
    {
      "cell_type": "code",
      "source": [
        "%%shell\n",
        "sudo apt -y update\n",
        "sudo apt install -y wget curl unzip\n",
        "wget http://archive.ubuntu.com/ubuntu/pool/main/libu/libu2f-host/libu2f-udev_1.1.4-1_all.deb\n",
        "dpkg -i libu2f-udev_1.1.4-1_all.deb\n",
        "wget https://dl.google.com/linux/direct/google-chrome-stable_current_amd64.deb\n",
        "dpkg -i google-chrome-stable_current_amd64.deb\n",
        "\n",
        "wget -N https://edgedl.me.gvt1.com/edgedl/chrome/chrome-for-testing/118.0.5993.70/linux64/chromedriver-linux64.zip -P /tmp/\n",
        "unzip -o /tmp/chromedriver-linux64.zip -d /tmp/\n",
        "chmod +x /tmp/chromedriver-linux64/chromedriver\n",
        "mv /tmp/chromedriver-linux64/chromedriver /usr/local/bin/chromedriver\n",
        "pip install selenium chromedriver_autoinstaller"
      ],
      "metadata": {
        "id": "mYgfqIEgDmJp"
      },
      "execution_count": null,
      "outputs": []
    },
    {
      "cell_type": "code",
      "source": [
        "pip install pandas"
      ],
      "metadata": {
        "colab": {
          "base_uri": "https://localhost:8080/"
        },
        "id": "FXv9lyykLpT4",
        "outputId": "77980a28-fb89-45b6-84ac-eea4fda5c546"
      },
      "execution_count": 9,
      "outputs": [
        {
          "output_type": "stream",
          "name": "stdout",
          "text": [
            "Requirement already satisfied: pandas in /usr/local/lib/python3.10/dist-packages (2.0.3)\n",
            "Requirement already satisfied: python-dateutil>=2.8.2 in /usr/local/lib/python3.10/dist-packages (from pandas) (2.8.2)\n",
            "Requirement already satisfied: pytz>=2020.1 in /usr/local/lib/python3.10/dist-packages (from pandas) (2023.4)\n",
            "Requirement already satisfied: tzdata>=2022.1 in /usr/local/lib/python3.10/dist-packages (from pandas) (2024.1)\n",
            "Requirement already satisfied: numpy>=1.21.0 in /usr/local/lib/python3.10/dist-packages (from pandas) (1.25.2)\n",
            "Requirement already satisfied: six>=1.5 in /usr/local/lib/python3.10/dist-packages (from python-dateutil>=2.8.2->pandas) (1.16.0)\n"
          ]
        }
      ]
    },
    {
      "cell_type": "code",
      "source": [
        "import pandas as pd\n",
        "from selenium.common.exceptions import NoSuchElementException\n",
        "from selenium.webdriver.common.by import By\n",
        "import sys\n",
        "sys.path.insert(0,'/usr/lib/chromium-browser/chromedriver')\n",
        "\n",
        "from selenium import webdriver\n",
        "import chromedriver_autoinstaller\n",
        "\n",
        "chrome_options = webdriver.ChromeOptions()\n",
        "chrome_options.add_argument('--headless') # this is must\n",
        "chrome_options.add_argument('--no-sandbox')\n",
        "chrome_options.add_argument('--disable-dev-shm-usage')\n",
        "chrome_options.add_argument('--window-size=1920,1080')  # Set window size here\n",
        "chromedriver_autoinstaller.install()\n",
        "\n",
        "driver = webdriver.Chrome(options=chrome_options)\n",
        "\n",
        "\n",
        "# Open the page\n",
        "driver.get(\"https://www.audible.com/adblbestsellers?searchCategory=18571912011&ref_pageloadid=HjWkt5IHoHXlTkLl&ref=a_cat_Arts-_c4_showmore&pf_rd_p=d5744c47-5ad0-4c12-bb42-e6207b17068a&pf_rd_r=DX33H3JK4HJ1J4AWJ875&pageLoadId=8zZgXkl7m2NZkEES&creativeId=f96a42f6-d65d-454f-b2f9-5abd1c38a6d7\")\n",
        "\n",
        "\n",
        "\n",
        "try:\n",
        "    items_list = driver.find_elements(By.XPATH, '//div[@data-widget=\"productList\"]/div/span[2]/ul/li')\n",
        "\n",
        "    book_title = []\n",
        "    book_subtitle = []\n",
        "    book_authors = []  # List to store authors\n",
        "    book_prices = []  # List to store prices\n",
        "\n",
        "    for counter, item in enumerate(items_list):\n",
        "        title = item.get_attribute('aria-label')\n",
        "        book_title.append(title)\n",
        "\n",
        "        try:\n",
        "            subtitle = item.find_element(By.XPATH, './/li[contains(@class, \"subtitle\")]/span').text\n",
        "        except NoSuchElementException:\n",
        "            subtitle = \"No Subtitle\"  # Handle missing subtitle\n",
        "        book_subtitle.append(subtitle)\n",
        "\n",
        "        # Finding the authors\n",
        "        author_elements = item.find_elements(By.XPATH, './/li[contains(@class, \"authorLabel\")]/span/a')\n",
        "        authors = [author.text for author in author_elements]\n",
        "        book_authors.append(\", \".join(authors))  # Join multiple authors with comma\n",
        "\n",
        "        # Finding the price\n",
        "        price = item.find_element(By.XPATH, './/div[contains(@class, \"adblBuyBoxPrice\")]/p[1]/span[2]').text\n",
        "        book_prices.append(price)\n",
        "\n",
        "        # Print book details for debugging\n",
        "        print(f\"Book {counter}: Title - {title}, Subtitle - {subtitle}, Authors - {', '.join(authors)}, Price - {price}\")\n",
        "\n",
        "    # Create DataFrame\n",
        "    df_books = pd.DataFrame({\n",
        "        'Title': book_title,\n",
        "        'Subtitle': book_subtitle,\n",
        "        'Authors': book_authors,\n",
        "        'Price': book_prices\n",
        "    })\n",
        "    df_books.to_csv('books.csv', index=False)\n",
        "\n",
        "    # Print all collected data for verification\n",
        "    print(df_books)\n",
        "\n",
        "except Exception as e:\n",
        "    print(\"Element not found or error in scraping:\", e)\n",
        "\n",
        "finally:\n",
        "    driver.quit()"
      ],
      "metadata": {
        "id": "nRe-g2m-D4Vi"
      },
      "execution_count": null,
      "outputs": []
    },
    {
      "cell_type": "code",
      "source": [
        "# this code is with the pagination concept\n",
        "\n",
        "import pandas as pd\n",
        "import time\n",
        "from selenium.common.exceptions import NoSuchElementException\n",
        "from selenium.webdriver.common.by import By\n",
        "import sys\n",
        "sys.path.insert(0,'/usr/lib/chromium-browser/chromedriver')\n",
        "\n",
        "from selenium import webdriver\n",
        "import chromedriver_autoinstaller\n",
        "\n",
        "chrome_options = webdriver.ChromeOptions()\n",
        "chrome_options.add_argument('--headless') # this is must\n",
        "chrome_options.add_argument('--no-sandbox')\n",
        "chrome_options.add_argument('--disable-dev-shm-usage')\n",
        "chrome_options.add_argument('--window-size=1920,1080')  # Set window size here\n",
        "chromedriver_autoinstaller.install()\n",
        "\n",
        "driver = webdriver.Chrome(options=chrome_options)\n",
        "\n",
        "\n",
        "# Open the page\n",
        "driver.get(\"https://www.audible.com/adblbestsellers?searchCategory=18571912011&ref_pageloadid=HjWkt5IHoHXlTkLl&ref=a_cat_Arts-_c4_showmore&pf_rd_p=d5744c47-5ad0-4c12-bb42-e6207b17068a&pf_rd_r=DX33H3JK4HJ1J4AWJ875&pageLoadId=8zZgXkl7m2NZkEES&creativeId=f96a42f6-d65d-454f-b2f9-5abd1c38a6d7\")\n",
        "\n",
        "# Locate pagination\n",
        "pagination = driver.find_element(By.XPATH, '//ul[contains(@class, \"pagingElements\")]')\n",
        "pages = pagination.find_elements(By.TAG_NAME, 'li')\n",
        "last_page = int(pages[-2].text)  # Assuming the second last element is the last page number\n",
        "\n",
        "book_title = []\n",
        "book_subtitle = []\n",
        "book_authors = []\n",
        "book_prices = []\n",
        "\n",
        "current_page = 1\n",
        "while current_page <= last_page:\n",
        "    items_list = driver.find_elements(By.XPATH, '//div[@data-widget=\"productList\"]/div/span[2]/ul/li')\n",
        "    for counter, item in enumerate(items_list):\n",
        "        title = item.get_attribute('aria-label')\n",
        "        book_title.append(title)\n",
        "\n",
        "        try:\n",
        "            subtitle = item.find_element(By.XPATH, './/li[contains(@class, \"subtitle\")]/span').text\n",
        "        except NoSuchElementException:\n",
        "            subtitle = \"No Subtitle\"\n",
        "        book_subtitle.append(subtitle)\n",
        "\n",
        "        author_elements = item.find_elements(By.XPATH, './/li[contains(@class, \"authorLabel\")]/span/a')\n",
        "        authors = [author.text for author in author_elements]\n",
        "        book_authors.append(\", \".join(authors))\n",
        "\n",
        "        try:\n",
        "            price = item.find_element(By.XPATH, './/div[contains(@class, \"adblBuyBoxPrice\")]/p[1]/span[2]').text\n",
        "        except NoSuchElementException:\n",
        "            price = \"Price Unavailable\"\n",
        "        book_prices.append(price)\n",
        "\n",
        "    # After processing all items on the current page\n",
        "    if current_page < last_page:\n",
        "        try:\n",
        "            next_page = driver.find_element(By.XPATH, './/span[contains(@class , \"nextButton\")]')\n",
        "            next_page.click()\n",
        "            time.sleep(2)  # Ensure the page has loaded\n",
        "        except NoSuchElementException:\n",
        "            print(f\"Failed to locate next page button on page {current_page}.\")\n",
        "            break\n",
        "    current_page += 1\n",
        "\n",
        "# Close the driver\n",
        "driver.quit()\n",
        "\n",
        "# Save to DataFrame and CSV\n",
        "df_books = pd.DataFrame({\n",
        "    'Title': book_title,\n",
        "    'Subtitle': book_subtitle,\n",
        "    'Authors': book_authors,\n",
        "    'Price': book_prices\n",
        "})\n",
        "df_books.to_csv('books.csv', index=False)\n",
        "print(df_books)"
      ],
      "metadata": {
        "id": "dg9aH2k_eA9B"
      },
      "execution_count": null,
      "outputs": []
    }
  ]
}